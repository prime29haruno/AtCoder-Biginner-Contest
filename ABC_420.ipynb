{
  "nbformat": 4,
  "nbformat_minor": 0,
  "metadata": {
    "colab": {
      "provenance": []
    },
    "kernelspec": {
      "name": "python3",
      "display_name": "Python 3"
    },
    "language_info": {
      "name": "python"
    }
  },
  "cells": [
    {
      "cell_type": "code",
      "execution_count": 5,
      "metadata": {
        "colab": {
          "base_uri": "https://localhost:8080/"
        },
        "id": "R2ExTM5I9b3M",
        "outputId": "ddd35715-163c-445e-a583-60c750021652"
      },
      "outputs": [
        {
          "output_type": "stream",
          "name": "stdout",
          "text": [
            "5 9\n",
            "2\n"
          ]
        }
      ],
      "source": [
        "#A問題\n",
        "\n",
        "X, Y = map(int, input().split())\n",
        "\n",
        "if 12 - X < Y:\n",
        "  result = Y - (12 - X)\n",
        "else:\n",
        "  result = X + Y\n",
        "\n",
        "print(result)"
      ]
    },
    {
      "cell_type": "code",
      "source": [
        "#B問題\n",
        "\n",
        "N, M = map(int, input().split())\n",
        "S = list(map(int, input().split()))\n",
        "\n"
      ],
      "metadata": {
        "id": "CNpLOoGn9dpw"
      },
      "execution_count": null,
      "outputs": []
    }
  ]
}